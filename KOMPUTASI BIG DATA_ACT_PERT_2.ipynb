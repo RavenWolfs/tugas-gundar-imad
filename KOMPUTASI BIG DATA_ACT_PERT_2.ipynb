{
 "cells": [
  {
   "cell_type": "markdown",
   "metadata": {
    "id": "6aWfYuBP8ATP"
   },
   "source": [
    "#KBD_ACT_PERT 2\n",
    "\n",
    "Nama : M.imaduddin Al farobi\n",
    "Npm  : 10123641"
   ]
  },
  {
   "cell_type": "markdown",
   "metadata": {
    "id": "KpH4UzotH05s"
   },
   "source": [
    "#TUGAS\n",
    "\n",
    "## Instruksi Praktikum\n",
    "\n",
    "1. Silahkan modifikasi kode operasi yang ada menggunakan library perhitungan berbasis GPU (Library Cupy)\n",
    "2. Bacalah dataset yang berada tersimpan url https://raw.githubusercontent.com/supasonicx/ATA-praktikum-01/main/concrete.csv\n",
    "3. Periksa dataset apakah terdapat data yang bernilai null dengan menggunakan fungsi .isnull()\n",
    "4. Buatlah sebuah histogram dari data kolom 'strength'.\n",
    "5. Buatlah diagram boxplot dari dataset yang ada.\n",
    "6. Hitung karakteristik statistik (standar deviasi, variance, mean, median) dari masing-masing kolom data.\n",
    "7. Buatlah correlation map dari dataset tersebut.\n",
    "8. Hitung covariance dari kolom data yang diminta\n",
    "9. Hitung pearson correlation dan spearsman correlation dari kolom data yang diminta\n",
    "10. Hitung nilai hipotesis testing untuk kolom age dan strength."
   ]
  },
  {
   "cell_type": "markdown",
   "metadata": {
    "id": "P3-lj_yeIa1u"
   },
   "source": [
    "##2. Bacalah dataset yang berada tersimpan url https://raw.githubusercontent.com/supasonicx/ATA-praktikum-01/main/concrete.csv"
   ]
  },
  {
   "cell_type": "code",
   "execution_count": 1,
   "metadata": {
    "id": "dqEkqltO2vle"
   },
   "outputs": [
    {
     "ename": "",
     "evalue": "",
     "output_type": "error",
     "traceback": [
      "\u001b[1;31mFailed to connect to the remote Jupyter Server 'http://localhost:8888/'. Verify the server is running and reachable. (Failed to connect to the remote Jupyter Server 'http://localhost:8888/'. Verify the server is running and reachable. (request to http://localhost:8888/api/kernels?1728523595089 failed, reason: ).)."
     ]
    }
   ],
   "source": [
    "# BERFUNGSI IMPORT LIBRARY\n",
    "import pandas as pd\n",
    "import numpy as np\n",
    "import seaborn as sns\n",
    "import matplotlib.pyplot as plt\n",
    "from pandas.plotting import autocorrelation_plot\n",
    "from scipy import stats\n",
    "plt.style.use(\"ggplot\")\n",
    "import warnings\n",
    "warnings.filterwarnings(\"ignore\")\n",
    "from scipy import stats"
   ]
  },
  {
   "cell_type": "code",
   "execution_count": null,
   "metadata": {
    "id": "8LJPgN7v3yYb"
   },
   "outputs": [],
   "source": [
    "# MEMBACA DATA DARI LINK\n",
    "url_data = \"https://raw.githubusercontent.com/supasonicx/ATA-praktikum-01/main/concrete.csv\"\n",
    "data = pd.read_csv(url_data)"
   ]
  },
  {
   "cell_type": "code",
   "execution_count": null,
   "metadata": {
    "colab": {
     "base_uri": "https://localhost:8080/",
     "height": 204
    },
    "id": "FpO1ABsL4E09",
    "outputId": "0075fe97-79d3-4a19-c721-727544de3cfd"
   },
   "outputs": [],
   "source": [
    "## MENAMPILKAN OUTPUT 5 BARIS AWAL\n",
    "data.head()"
   ]
  },
  {
   "cell_type": "markdown",
   "metadata": {
    "id": "wJWcYa8qKpAE"
   },
   "source": [
    "##3.Periksa dataset apakah terdapat data yang bernilai null dengan menggunakan fungsi .isnull()"
   ]
  },
  {
   "cell_type": "code",
   "execution_count": null,
   "metadata": {
    "colab": {
     "base_uri": "https://localhost:8080/"
    },
    "id": "DudYa6_74Zcm",
    "outputId": "586dabbd-ce5a-4013-f2ee-b96322bfb007"
   },
   "outputs": [],
   "source": [
    "# MENAMPILKAN DIMENSI DATASET\n",
    "print('Shape dataset', data.shape)"
   ]
  },
  {
   "cell_type": "code",
   "execution_count": null,
   "metadata": {
    "colab": {
     "base_uri": "https://localhost:8080/"
    },
    "id": "6X7CtQkL4l97",
    "outputId": "b30c16cf-2f46-4a5a-edea-f92eaa145048"
   },
   "outputs": [],
   "source": [
    "# MENAMPILKAN KOLOM DATASET\n",
    "print(data.columns)"
   ]
  },
  {
   "cell_type": "code",
   "execution_count": null,
   "metadata": {
    "colab": {
     "base_uri": "https://localhost:8080/"
    },
    "id": "OrcyotfO4vJA",
    "outputId": "bce26261-568c-4932-a247-50cfb488582f"
   },
   "outputs": [],
   "source": [
    "# MENAMPILKAN DATASET APAKAH BERNILAI NULL DENGAN MENGUNAKAN FUNGSI .ISNNULL()\n",
    "print(\"mean stength :\",data['strength'].isnull())"
   ]
  },
  {
   "cell_type": "markdown",
   "metadata": {
    "id": "1tPHh6S9K4El"
   },
   "source": [
    "##4.Buatlah sebuah histogram dari data kolom 'strength'."
   ]
  },
  {
   "cell_type": "code",
   "execution_count": null,
   "metadata": {
    "colab": {
     "base_uri": "https://localhost:8080/",
     "height": 695
    },
    "id": "z6I9g4QQ5H4_",
    "outputId": "3ca519b1-5325-47ec-9923-56a278c4b07d"
   },
   "outputs": [],
   "source": [
    "## HISTOGRAM DATA KOLOM STRENGTH\n",
    "plt.figure(figsize=(20,10))\n",
    "plt.title('Histogram of strength')\n",
    "sns.histplot(data,x='strength',kde=True)\n",
    "plt.hist(data['strength'], density=True, bins=30, label=\"Data\")"
   ]
  },
  {
   "cell_type": "markdown",
   "metadata": {
    "id": "5ioQaTfj5ooA"
   },
   "source": [
    "##5. Buatlah diagram boxplot dari dataset yang ada."
   ]
  },
  {
   "cell_type": "code",
   "execution_count": null,
   "metadata": {
    "colab": {
     "base_uri": "https://localhost:8080/"
    },
    "id": "A4uLbpXB5k9e",
    "outputId": "8a309a8d-3799-4e81-9f6c-f33212c2dda0"
   },
   "outputs": [],
   "source": [
    "# HISTOGRAM STREGH\n",
    "q1 = data[[\"strength\"]].quantile(0.35)\n",
    "q2 = data[[\"strength\"]].quantile(0.85)\n",
    "iqr = q2 -q1\n",
    "print(iqr)"
   ]
  },
  {
   "cell_type": "code",
   "execution_count": null,
   "metadata": {
    "colab": {
     "base_uri": "https://localhost:8080/",
     "height": 458
    },
    "id": "BLDb754jWruc",
    "outputId": "d208b9a6-b2ca-4d8d-a3a3-e922c2288fe8"
   },
   "outputs": [],
   "source": [
    "# HUBUNGAN KOLOM STRENGHT , AGE BOXBLOT\n",
    "plt.figure(figsize = (15,10))\n",
    "sns.jointplot(data.age,data.strength,kind=\"reg\")\n",
    "plt.show()"
   ]
  },
  {
   "cell_type": "code",
   "execution_count": null,
   "metadata": {
    "colab": {
     "base_uri": "https://localhost:8080/",
     "height": 720
    },
    "id": "2v3awUnrWxTd",
    "outputId": "7fe18c59-29b5-4497-fd0f-3901e75a4351"
   },
   "outputs": [],
   "source": [
    "# HUBUNGAN ANTAR DATA 'cement', 'slag', 'age', dan 'strengh'\n",
    "sns.set(style = \"white\")\n",
    "df = data.loc[:,[\"cement\",\"slag\",\"age\",\"strength\"]]\n",
    "g = sns.PairGrid(df,diag_sharey = False)\n",
    "g.map_lower(sns.kdeplot,cmap=\"Blues_d\")\n",
    "g.map_upper(plt.scatter)\n",
    "g.map_diag(sns.kdeplot,lw = 2)\n",
    "plt.show()"
   ]
  },
  {
   "cell_type": "markdown",
   "metadata": {
    "id": "nhDrpVFlSctI"
   },
   "source": [
    "##6. Hitung karakteristik statistik (standar deviasi, variance, mean, median) dari masing-masing kolom data."
   ]
  },
  {
   "cell_type": "code",
   "execution_count": null,
   "metadata": {
    "colab": {
     "base_uri": "https://localhost:8080/"
    },
    "id": "N8VnVx0VSag6",
    "outputId": "2051b7f1-b741-4069-f73c-c9f810850eea"
   },
   "outputs": [],
   "source": [
    "# MENGHITUNG NILAI KARAKTERISTIK MASING KOLOM DENGAN PERINTAH DESCRIBE\n",
    "print(\"standart deviation :\", data.strength.std())\n",
    "print(\"variance           :\", data.strength.var())\n",
    "print(\"mean               :\", data.strength.mean())\n",
    "print(\"mdian              :\", data.strength.median())"
   ]
  },
  {
   "cell_type": "markdown",
   "metadata": {
    "id": "ZoBFIR4pTUij"
   },
   "source": [
    "##7. Buatlah correlation map dari dataset tersebut."
   ]
  },
  {
   "cell_type": "code",
   "execution_count": null,
   "metadata": {
    "colab": {
     "base_uri": "https://localhost:8080/",
     "height": 896
    },
    "id": "IAH_lcO1UcDu",
    "outputId": "1469123b-299f-4e01-8bf8-52596a7cc2d5"
   },
   "outputs": [],
   "source": [
    "# Buatlah diagram heatmap dari setiap kolom yang ada dengan library seaborn\n",
    "f,ax=plt.subplots(figsize = (15,15))\n",
    "sns.heatmap(data.corr(),annot= True,linewidths=0.5,fmt = \".1f\" ,ax=ax)\n",
    "plt.xticks(rotation=90)\n",
    "plt.yticks(rotation=0)\n",
    "plt.title('correlation Map')\n",
    "plt.savefig('graph.png')\n",
    "plt.show()"
   ]
  },
  {
   "cell_type": "markdown",
   "metadata": {
    "id": "Oooj59b4UA8a"
   },
   "source": [
    "##8. Hitung covariance dari kolom data yang diminta"
   ]
  },
  {
   "cell_type": "code",
   "execution_count": null,
   "metadata": {
    "colab": {
     "base_uri": "https://localhost:8080/"
    },
    "id": "vARw2DVJVCW5",
    "outputId": "7d1d7f7e-bd13-4691-b569-c307571c7537"
   },
   "outputs": [],
   "source": [
    "# Bandingkan nilai covariance dari data age, strength dan strength dan cement\n",
    "print(\"Covariance diantara radius mean dan area mean: \",data.strength.cov(data.age))\n",
    "print(\"Covariance diantara radius mean dan fractal dimension se: \",data.strength.cov(data.cement))"
   ]
  },
  {
   "cell_type": "markdown",
   "metadata": {
    "id": "LCE9TygFUuun"
   },
   "source": [
    "#9. Hitung pearson correlation dan spearsman correlation dari kolom data yang diminta"
   ]
  },
  {
   "cell_type": "code",
   "execution_count": null,
   "metadata": {
    "colab": {
     "base_uri": "https://localhost:8080/"
    },
    "id": "djGd5QXtThYi",
    "outputId": "a1497aff-f41a-4ac3-944a-13befe017f6f"
   },
   "outputs": [],
   "source": [
    "# PEARSON CORRELATION\n",
    "p1 = data.loc[:,[\"age\",\"strength\"]].corr(method= \"pearson\")\n",
    "p2 = data.strength.cov(data.age)/(data.strength.std()*data.age.std())\n",
    "print('Pearson correlation: ')\n",
    "print(p1)\n",
    "print('Pearson correlation: ' ,p2)"
   ]
  },
  {
   "cell_type": "code",
   "execution_count": null,
   "metadata": {
    "colab": {
     "base_uri": "https://localhost:8080/"
    },
    "id": "ozzAjW5RT2NA",
    "outputId": "50ec6855-3f35-4c6d-9098-acf047be4498"
   },
   "outputs": [],
   "source": [
    "# SPEARMAN'S CORRELATION \n",
    "ranked_data = data.rank()\n",
    "spearman_corr = ranked_data.loc[:,[\"age\",\"strength\"]].corr(method= \"pearson\")\n",
    "print(\"Spearman's correlation: \")\n",
    "print(spearman_corr)"
   ]
  },
  {
   "cell_type": "markdown",
   "metadata": {
    "id": "4rTpI1fQVIFp"
   },
   "source": [
    "##10. Hitung nilai hipotesis testing untuk kolom age dan strength."
   ]
  },
  {
   "cell_type": "code",
   "execution_count": null,
   "metadata": {
    "colab": {
     "base_uri": "https://localhost:8080/"
    },
    "id": "CiJQCAL1VKKM",
    "outputId": "f788d119-86e4-45db-8408-47a607538c5e"
   },
   "outputs": [],
   "source": [
    "# MENAMPILKAN NILAI HIPOTESIS\n",
    "statistic, p_value = stats.ttest_rel(data.age,data.strength)\n",
    "print('HIPOTESIS AGE DAN STRENGHT adalah: ',p_value)"
   ]
  }
 ],
 "metadata": {
  "colab": {
   "provenance": []
  },
  "kernelspec": {
   "display_name": "Python 3 (ipykernel)",
   "language": "python",
   "name": "python3"
  }
 },
 "nbformat": 4,
 "nbformat_minor": 4
}
