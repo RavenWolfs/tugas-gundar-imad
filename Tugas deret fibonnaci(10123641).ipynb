{
 "cells": [
  {
   "cell_type": "code",
   "execution_count": 1,
   "metadata": {},
   "outputs": [
    {
     "name": "stdout",
     "output_type": "stream",
     "text": [
      "Deret Fibonacci hingga suku ke- 8 :\n",
      "0\n",
      "1\n",
      "1\n",
      "2\n",
      "3\n",
      "5\n",
      "8\n",
      "13\n"
     ]
    }
   ],
   "source": [
    "def Fibonacci(n):\n",
    "    if n < 0:\n",
    "        print(\"Input salah\")\n",
    "    elif n == 1:\n",
    "        print(\"Deret Fibonacci hingga suku ke-\", n, \":\")\n",
    "        print(0)\n",
    "    elif n == 2:\n",
    "        print(\"Deret Fibonacci hingga suku ke-\", n, \":\")\n",
    "        print(0)\n",
    "        print(1)\n",
    "    else:\n",
    "        print(\"Deret Fibonacci hingga suku ke-\", n, \":\")\n",
    "        deret_Fibonacci = [0, 1]  # Inisialisasi deret Fibonacci\n",
    "        for i in range(2, n):\n",
    "            next_fib = deret_Fibonacci[-1] + deret_Fibonacci[-2]\n",
    "            deret_Fibonacci.append(next_fib)\n",
    "        for fib in deret_Fibonacci:\n",
    "            print(fib)\n",
    "#isi angka dibawah ini\n",
    "Fibonacci(8)"
   ]
  },
  {
   "cell_type": "code",
   "execution_count": null,
   "metadata": {},
   "outputs": [],
   "source": []
  }
 ],
 "metadata": {
  "kernelspec": {
   "display_name": "Python 3",
   "language": "python",
   "name": "python3"
  },
  "language_info": {
   "codemirror_mode": {
    "name": "ipython",
    "version": 3
   },
   "file_extension": ".py",
   "mimetype": "text/x-python",
   "name": "python",
   "nbconvert_exporter": "python",
   "pygments_lexer": "ipython3",
   "version": "3.13.0"
  }
 },
 "nbformat": 4,
 "nbformat_minor": 4
}
